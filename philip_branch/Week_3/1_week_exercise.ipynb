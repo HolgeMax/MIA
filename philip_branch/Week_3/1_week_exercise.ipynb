{
  "cells": [
    {
      "cell_type": "markdown",
      "id": "5be83d95",
      "metadata": {
        "id": "5be83d95"
      },
      "source": [
        "# Exercise 1 - Smoothing and Interpolation"
      ]
    },
    {
      "cell_type": "markdown",
      "id": "9e5ebbe4",
      "metadata": {
        "id": "9e5ebbe4"
      },
      "source": [
        "## Introduction\n",
        "\n",
        "During this exercise we have focused on smoothing and interpolating in both 1D and 2D space.\n",
        "\n",
        "This is important preprocessing steps as it can reduce noise in medical images and ensure proper registration in later steps.\n",
        "\n",
        "When applying smoothing we take advantage of nonlinear functions. This increases the flexibility of the model and the model can be desribed as:\n",
        "\n",
        "$y\\mathbf{(x,w)} = w_0 + \\sum_{m=1}^{M-1} w_m \\, \\phi_m(\\mathbf{x}),$\n",
        "\n",
        "where $\\phi_m(\\mathbf{x})$ describes the basis functions, $w$ are tunable weights that must be estimated using the measurements that are available, and $M$ is a tunable parameter.\n",
        "\n",
        "During this exercise to find the basis functions we used B-splines which are symmetric functions formed by repeatedly convolving a rectangular pulse $\\beta_0$\n",
        "\n",
        "In this exercise we use the $0^{th}$, $1^{st}$, and $3^{rd}$ order of B-splines by using the following formulas:\n",
        "\n",
        "$\n",
        "\\beta^{0}(x) =\n",
        "\\begin{cases}\n",
        "1, & -\\dfrac{1}{2} < x < \\dfrac{1}{2}, \\\\[6pt]\n",
        "\\dfrac{1}{2}, & |x| = \\dfrac{1}{2}, \\\\[6pt]\n",
        "0, & \\text{otherwise}.\n",
        "\\end{cases}\n",
        "$\n",
        "\n",
        "$\n",
        "\\beta^{1}(x) =\n",
        "\\begin{cases}\n",
        "1 - |x|, & |x| < 1, \\\\\n",
        "0, & \\text{otherwise},\n",
        "\\end{cases}\n",
        "$\n",
        "\n",
        "$\n",
        "\\beta^{3}(x) =\n",
        "\\begin{cases}\n",
        "\\dfrac{2}{3} - |x|^2 + \\dfrac{|x|^3}{2}, & |x| < 1, \\\\[6pt]\n",
        "\\dfrac{(2 - |x|)^3}{6}, & 1 \\leq |x| < 2, \\\\[6pt]\n",
        "0, & \\text{otherwise}.\n",
        "\\end{cases}\n",
        "$\n"
      ]
    },
    {
      "cell_type": "markdown",
      "source": [
        "### Smoothing\n",
        "When smoothing the image we estimate denoised signals in a vector or matrix. To do this we use a smoothing matrix $S$ that makes linear combinations of the input 1D vector $\\hat t  $or 2D or higher matrix $\\hat T  $.\n",
        "\n",
        "$\\hat t = S t$,\n",
        "where $\\mathbf{S} = \\mathbf{\\Phi} \\left( \\mathbf{\\Phi}^\\top \\mathbf{\\Phi} + \\lambda \\mathbf{\\Omega}^\\top \\mathbf{\\Omega} \\right)^{-1} \\mathbf{\\Phi}^\\top$ and $t$ is our input vector.\n",
        "\n",
        "$\\hat T = S_1 T S_2^T$, where $\n",
        "\\mathbf{S_1} = \\mathbf{\\Phi_1} \\left( \\mathbf{\\Phi_1}^\\top \\mathbf{\\Phi_1} \\right)^{-1} \\mathbf{\\Phi_1}^\\top$ and $T$ is our input 2D matrix.\n",
        "\n",
        "\n",
        "\n",
        "\n",
        "\n"
      ],
      "metadata": {
        "id": "rZ27Cccjgq0g"
      },
      "id": "rZ27Cccjgq0g"
    },
    {
      "cell_type": "markdown",
      "source": [
        "### Interpolation\n",
        "When comparing several medical images, one problem is that the intensity values we need often don’t line up with the pixel grid of the image. To estimate these missing values, shifted B-spline basis functions can be used. This means the B-splines will go through the intensities in the original image, and fill in the intensity values where the values are missing. How it fills in the values depends on the order of the B-splines. Using order 0 we use the nearest neighbour, for order 1 it’s linear interpolation and order 3 result in cubic interpolation. For interpolation $M=N$.\n",
        "\n",
        "When filling in the missing values the weights control how much of the neighbourings intensity value will contribute to the interpolated point. This means for order 0 the weight will be almost 100% from the closest point and 0% from the others. For order 1, the two neighbours will share the weight, depending on how close the new point is to one another and for order 3 several neighbours will get weights and the contribution will attenuate smoothly.\n",
        "\n",
        "The weights are defined as:\n",
        "$\\mathbf{w} = \\left( \\mathbf{\\Phi}^\\top \\mathbf{\\Phi} + \\lambda \\mathbf{\\Omega}^\\top \\mathbf{\\Omega} \\right)^{-1} \\mathbf{\\Phi}^\\top t$\n"
      ],
      "metadata": {
        "id": "pRO7pCUpq54y"
      },
      "id": "pRO7pCUpq54y"
    },
    {
      "cell_type": "markdown",
      "id": "e89568a3",
      "metadata": {
        "id": "e89568a3"
      },
      "source": [
        "---\n",
        "### Pre task loading\n"
      ]
    },
    {
      "cell_type": "code",
      "source": [
        "import numpy as np\n",
        "import nibabel as nib\n",
        "from matplotlib import pyplot as plt\n",
        "\n",
        "np.set_printoptions( suppress=True )\n",
        "plt.style.use('dark_background') # Dark theme\n",
        "plt.ion()\n",
        "\n",
        "T1_file = './IXI002-Guys-0828-T1.nii.gz'\n",
        "T1_nib = nib.load( T1_file )\n",
        "data = T1_nib.get_fdata()\n",
        "\n",
        "img = data[:, :, 75]\n",
        "T = np.flipud( img.T )\n",
        "\n",
        "row = round( T.shape[0] / 2 )\n",
        "t = T[row, :] #pixel intensity at row y = 128\n",
        "\n",
        "N = t.shape[0]\n",
        "x = np.arange(0, N)"
      ],
      "metadata": {
        "id": "PS9TY7IXbAxe",
        "colab": {
          "base_uri": "https://localhost:8080/",
          "height": 401
        },
        "outputId": "2a1783cf-cec2-4e77-8c6c-0e87037ea319"
      },
      "id": "PS9TY7IXbAxe",
      "execution_count": null,
      "outputs": [
        {
          "output_type": "error",
          "ename": "FileNotFoundError",
          "evalue": "No such file or no access: 'IXI002-Guys-0828-T1.nii.gz'",
          "traceback": [
            "\u001b[0;31m---------------------------------------------------------------------------\u001b[0m",
            "\u001b[0;31mFileNotFoundError\u001b[0m                         Traceback (most recent call last)",
            "\u001b[0;32m/usr/local/lib/python3.12/dist-packages/nibabel/loadsave.py\u001b[0m in \u001b[0;36mload\u001b[0;34m(filename, **kwargs)\u001b[0m\n\u001b[1;32m    100\u001b[0m     \u001b[0;32mtry\u001b[0m\u001b[0;34m:\u001b[0m\u001b[0;34m\u001b[0m\u001b[0;34m\u001b[0m\u001b[0m\n\u001b[0;32m--> 101\u001b[0;31m         \u001b[0mstat_result\u001b[0m \u001b[0;34m=\u001b[0m \u001b[0mos\u001b[0m\u001b[0;34m.\u001b[0m\u001b[0mstat\u001b[0m\u001b[0;34m(\u001b[0m\u001b[0mfilename\u001b[0m\u001b[0;34m)\u001b[0m\u001b[0;34m\u001b[0m\u001b[0;34m\u001b[0m\u001b[0m\n\u001b[0m\u001b[1;32m    102\u001b[0m     \u001b[0;32mexcept\u001b[0m \u001b[0mOSError\u001b[0m\u001b[0;34m:\u001b[0m\u001b[0;34m\u001b[0m\u001b[0;34m\u001b[0m\u001b[0m\n",
            "\u001b[0;31mFileNotFoundError\u001b[0m: [Errno 2] No such file or directory: 'IXI002-Guys-0828-T1.nii.gz'",
            "\nDuring handling of the above exception, another exception occurred:\n",
            "\u001b[0;31mFileNotFoundError\u001b[0m                         Traceback (most recent call last)",
            "\u001b[0;32m/tmp/ipython-input-3883020509.py\u001b[0m in \u001b[0;36m<cell line: 0>\u001b[0;34m()\u001b[0m\n\u001b[1;32m      8\u001b[0m \u001b[0;34m\u001b[0m\u001b[0m\n\u001b[1;32m      9\u001b[0m \u001b[0mT1_file\u001b[0m \u001b[0;34m=\u001b[0m \u001b[0;34m'./IXI002-Guys-0828-T1.nii.gz'\u001b[0m\u001b[0;34m\u001b[0m\u001b[0;34m\u001b[0m\u001b[0m\n\u001b[0;32m---> 10\u001b[0;31m \u001b[0mT1_nib\u001b[0m \u001b[0;34m=\u001b[0m \u001b[0mnib\u001b[0m\u001b[0;34m.\u001b[0m\u001b[0mload\u001b[0m\u001b[0;34m(\u001b[0m \u001b[0mT1_file\u001b[0m \u001b[0;34m)\u001b[0m\u001b[0;34m\u001b[0m\u001b[0;34m\u001b[0m\u001b[0m\n\u001b[0m\u001b[1;32m     11\u001b[0m \u001b[0mdata\u001b[0m \u001b[0;34m=\u001b[0m \u001b[0mT1_nib\u001b[0m\u001b[0;34m.\u001b[0m\u001b[0mget_fdata\u001b[0m\u001b[0;34m(\u001b[0m\u001b[0;34m)\u001b[0m\u001b[0;34m\u001b[0m\u001b[0;34m\u001b[0m\u001b[0m\n\u001b[1;32m     12\u001b[0m \u001b[0;34m\u001b[0m\u001b[0m\n",
            "\u001b[0;32m/usr/local/lib/python3.12/dist-packages/nibabel/loadsave.py\u001b[0m in \u001b[0;36mload\u001b[0;34m(filename, **kwargs)\u001b[0m\n\u001b[1;32m    101\u001b[0m         \u001b[0mstat_result\u001b[0m \u001b[0;34m=\u001b[0m \u001b[0mos\u001b[0m\u001b[0;34m.\u001b[0m\u001b[0mstat\u001b[0m\u001b[0;34m(\u001b[0m\u001b[0mfilename\u001b[0m\u001b[0;34m)\u001b[0m\u001b[0;34m\u001b[0m\u001b[0;34m\u001b[0m\u001b[0m\n\u001b[1;32m    102\u001b[0m     \u001b[0;32mexcept\u001b[0m \u001b[0mOSError\u001b[0m\u001b[0;34m:\u001b[0m\u001b[0;34m\u001b[0m\u001b[0;34m\u001b[0m\u001b[0m\n\u001b[0;32m--> 103\u001b[0;31m         \u001b[0;32mraise\u001b[0m \u001b[0mFileNotFoundError\u001b[0m\u001b[0;34m(\u001b[0m\u001b[0;34mf\"No such file or no access: '{filename}'\"\u001b[0m\u001b[0;34m)\u001b[0m\u001b[0;34m\u001b[0m\u001b[0;34m\u001b[0m\u001b[0m\n\u001b[0m\u001b[1;32m    104\u001b[0m     \u001b[0;32mif\u001b[0m \u001b[0mstat_result\u001b[0m\u001b[0;34m.\u001b[0m\u001b[0mst_size\u001b[0m \u001b[0;34m<=\u001b[0m \u001b[0;36m0\u001b[0m\u001b[0;34m:\u001b[0m\u001b[0;34m\u001b[0m\u001b[0;34m\u001b[0m\u001b[0m\n\u001b[1;32m    105\u001b[0m         \u001b[0;32mraise\u001b[0m \u001b[0mImageFileError\u001b[0m\u001b[0;34m(\u001b[0m\u001b[0;34mf\"Empty file: '{filename}'\"\u001b[0m\u001b[0;34m)\u001b[0m\u001b[0;34m\u001b[0m\u001b[0;34m\u001b[0m\u001b[0m\n",
            "\u001b[0;31mFileNotFoundError\u001b[0m: No such file or no access: 'IXI002-Guys-0828-T1.nii.gz'"
          ]
        }
      ]
    },
    {
      "cell_type": "code",
      "source": [
        "from google.colab import drive\n",
        "drive.mount('/content/drive')"
      ],
      "metadata": {
        "id": "RH4XyKAqJ1tt"
      },
      "id": "RH4XyKAqJ1tt",
      "execution_count": null,
      "outputs": []
    },
    {
      "cell_type": "markdown",
      "id": "11da8c4d",
      "metadata": {
        "id": "11da8c4d"
      },
      "source": [
        "---\n",
        "## Task 1: B-splines basis functions\n",
        "Implement a function that evaluates the uniform B-spline of orders 0, 1 and 3 at the locations provided in a vector $\\mathbf{x}$.\n",
        "\n",
        "The function should return a vector $\\mathbf{y}$ that is the same length as $\\mathbf{x}$:\n",
        "\n",
        "    def eval_BSpline(x, order=0):\n",
        "\n",
        "        \"\"\"\n",
        "        Evaluates the uniform B-spline of order \"order\" at the locations in vector \"x\"\n",
        "        \"\"\"\n",
        "\n",
        "        ...\n",
        "\n",
        "        return y\n",
        "\n",
        "\n",
        "Use this function to plot the uniform B-spline of orders 0, 1 and 3 at locations:  $\\mathbf{x} = [-3.0,-2.99,-2.98, \\ldots, 2.99,3.0]$\n",
        "\n",
        "> ***Hint:*** use the function ```np.arange()``` to obtain $\\mathbf{x}$."
      ]
    },
    {
      "cell_type": "code",
      "execution_count": null,
      "id": "29d6845a",
      "metadata": {
        "id": "29d6845a"
      },
      "outputs": [],
      "source": [
        "def eval_BSpline(x, order=0):\n",
        "    \"\"\"\n",
        "    Evaluates the uniform B-spline of order \"order\" at the locations in vector \"x\"\n",
        "    \"\"\"\n",
        "    import numpy as np\n",
        "    if order == 0: # Zero order B-Spline\n",
        "        out = np.zeros(x.shape)\n",
        "        out[(x >= -0.5) & (x < 0.5)] = 1\n",
        "        out[np.abs(x) == 0.5] = 0.5\n",
        "        out[(x < -0.5) | (x >= 0.5)] = 0\n",
        "\n",
        "    elif order == 1: # First order B-Spline\n",
        "        out = np.zeros(x.shape)\n",
        "        mask = np.abs(x) < 1\n",
        "        out[mask] = 1 - np.abs(x[mask])\n",
        "\n",
        "    elif order == 3: # Third order B-Spline\n",
        "        out = np.zeros(x.shape)\n",
        "        mask1 = np.abs(x) < 1\n",
        "        out[mask1] = 2/3-np.abs(x[mask1])**2 + 0.5*np.abs(x[mask1])**3\n",
        "        mask2 = (1 <= np.abs(x)) & (np.abs(x) < 2)\n",
        "        out[mask2] = (1/6)*(2-np.abs(x[mask2]))**3\n",
        "    return out"
      ]
    },
    {
      "cell_type": "code",
      "execution_count": null,
      "id": "033c735a",
      "metadata": {
        "id": "033c735a"
      },
      "outputs": [],
      "source": [
        "import matplotlib.pyplot as plt\n",
        "import numpy as np\n",
        "plotx = np.linspace(-3, 3, 1000)\n",
        "ploty = eval_BSpline(plotx, order=0) # plot of zero B-Spline in -3,3 space\n",
        "plt.plot(plotx, ploty, label=\"Order 0\")\n",
        "plt.title('B-spline of order 0,1,3')\n",
        "ploty = eval_BSpline(plotx, order=1) # plot of first B-Spline in -3,3 space\n",
        "plt.plot(plotx, ploty, label=\"Order 1\")\n",
        "ploty = eval_BSpline(plotx, order=3) # plot of third B-Spline in -3,3 space\n",
        "plt.plot(plotx, ploty, label=\"Order 3\")\n",
        "plt.legend()\n",
        "\n"
      ]
    },
    {
      "cell_type": "markdown",
      "source": [
        "In Task 1, we implemented the function eval_BSpline(x, order) to evaluate uniform B-spline basis functions of order 0, 1, and 3.\n",
        "- Order 0 corresponds to nearest-neighbor interpolation with a flat box shape.\n",
        "- Order 1 is linear interpolation, forming a triangular function.\n",
        "- Order 3 is cubic, providing smooth curves.\n",
        "\n",
        "By plotting these functions, we can visualize how higher-order B-splines provide smoother and more flexible basis functions, which later influence the smoothing and interpolation tasks."
      ],
      "metadata": {
        "id": "xN0FhVA1bZxy"
      },
      "id": "xN0FhVA1bZxy"
    },
    {
      "cell_type": "markdown",
      "id": "1f2cf7e1",
      "metadata": {
        "id": "1f2cf7e1"
      },
      "source": [
        "---\n",
        "## Task 2: Smoothing\n",
        "Using the function you wrote above for evaluating a uniform B-spline of order 3, generate $M=6$ basis functions covering the entire domain $x=0,1,\\ldots, 255$ of the 1D signal $\\mathbf{t}$ defined in the introduction (which has length $N=256$).\n",
        "\n",
        "The basis functions should be scaled by a factor $h=(N-1)/(M-1)$, and shifted to be $h$ units apart (see book).\n",
        "\n",
        "Collect the obtained basis functions in a $N \\times M$ matrix $\\boldsymbol{\\Phi}$, and plot them."
      ]
    },
    {
      "cell_type": "code",
      "execution_count": null,
      "id": "4c39e520",
      "metadata": {
        "id": "4c39e520"
      },
      "outputs": [],
      "source": [
        "N = len(t)\n",
        "x = np.linspace(0, N-1, N)\n",
        "M = 6\n",
        "phi = np.zeros((N, M))\n",
        "h = (N-1) / (M-1)\n",
        "centers = h * np.arange(M)\n",
        "phi = eval_BSpline((x[:, None]- centers[None, :])/h, order = 3)\n",
        "\n",
        "#plotting the basis functions as heatmaps\n",
        "plt.imshow(phi, cmap='jet', aspect='auto')\n",
        "plt.xlabel('x pos')\n",
        "plt.ylabel('basis function index m')\n",
        "plt.title('B-spline basis functions (M={})'.format(M))\n",
        "plt.colorbar(label='basis function value');\n",
        "\n",
        "# new plot of the basis functions not a heatmap\n",
        "fig, ax = plt.subplots(nrows=1, ncols=1,figsize=(10,5))\n",
        "for m in range(M):\n",
        "    ax.plot(x, phi[:, m], label='m={}'.format(m))\n",
        "ax.set_xlabel('x pos')\n",
        "ax.set_ylabel('basis function value')\n",
        "ax.set_title('B-spline basis functions (M={})'.format(M))\n",
        "ax.legend()\n"
      ]
    },
    {
      "cell_type": "markdown",
      "source": [
        "We generated $M=6$ cubic B-spline basis functions $\\phi_m(x)$ across the domain $x=0,1,...,255$ of the signal $t$.\n",
        "\n",
        "The basis functions were shifted by a spacing\n",
        "\n",
        "$h=\\frac{N-1}{M-1}$,   $N=256$,\n",
        "\n",
        "so that\n",
        "\n",
        "$\\phi_m(x)=B_3(\\frac{x-mh}{h})$,\n",
        "\n",
        "where $B_3$ is the cubic B-spline of order 3.\n",
        "\n",
        "The heatmap and line plots show that these functions overlap smoothly, and forms the building block for the smoothing."
      ],
      "metadata": {
        "id": "GEQ5fnoCkbDN"
      },
      "id": "GEQ5fnoCkbDN"
    },
    {
      "cell_type": "markdown",
      "id": "5a24b892",
      "metadata": {
        "id": "5a24b892"
      },
      "source": [
        "---\n",
        "Compute:\n",
        "- the smoothing matrix: $\\mathbf{S} = \\boldsymbol{\\Phi} (\\boldsymbol{\\Phi}^T \\boldsymbol{\\Phi})^{-1} \\boldsymbol{\\Phi}^T$\n",
        "- the smoothed signal:  $\\mathbf{\\hat{t}} = \\mathbf{S} \\mathbf{t}$\n",
        "\n",
        "Plots the results. Also plot the middle row of the smoothing matrix.\n",
        "\n",
        ">***Hint:***\n",
        ">\n",
        "> To compute the solution of a linear equation of the form Ax = b, you can use the following numpy function: ```np.linalg.solve(A, b)```.\n",
        ">\n",
        "> You can also use the matrix inversion function ```np.linalg.inv()```, although this is numerically not the best solution."
      ]
    },
    {
      "cell_type": "code",
      "execution_count": null,
      "id": "bbc360f6",
      "metadata": {
        "id": "bbc360f6"
      },
      "outputs": [],
      "source": [
        "S = phi @ np.linalg.solve(phi.T @ phi, phi.T)\n",
        "plt.imshow(S, cmap='jet', aspect='auto')\n",
        "plt.xlabel('x pos')\n",
        "plt.ylabel('x pos')\n",
        "plt.title('Smoothing matrix S (M={})'.format(M))\n",
        "plt.colorbar(label='S value');\n",
        "\n",
        "t_hat = S @ t\n",
        "plt.figure(figsize=(10,5))\n",
        "plt.scatter(x, t, label='data', alpha=0.25)\n",
        "plt.plot(x, t_hat, 'r', label='smoothed data (M={})'.format(M))\n",
        "plt.xlabel('x pos')"
      ]
    },
    {
      "cell_type": "markdown",
      "source": [
        "To smooth the signal, we project the data $t$ onto the spline basis matrix $\\phi$, which collects all basis functions:\n",
        "\n",
        "$\\Phi=[Φ_0,\\phi_1,...,\\phi_{M-1}]$  $\\in ℜ^{NxM}$.\n",
        "\n",
        "The weights are computed as:\n",
        "\n",
        "$w=(\\Phi^T\\phi)^{-1}\\Phi^Tt$,\n",
        "\n",
        "and the smoothed signal is then:\n",
        "\n",
        "$\\hat{t}=\\Phi w$.\n",
        "\n",
        "The heatmap of $S$ shows a banded structure. With values that are concentrated near the diagonal, which means that each point is mainly influenced by its neighbors, with some overlap.\n",
        "\n",
        "The effect on the signal is illustrated in the second plot. The noisy measurements, shown as dots, are fitted with the smoothed red curve. The noise fluctuations are supressed, while the main part of the data is perserved. The number of basis functions $M$ determines how strongly the signal is smoothed. So fewer basis functions gives stronger smoothing."
      ],
      "metadata": {
        "id": "yuKkIPLRluYU"
      },
      "id": "yuKkIPLRluYU"
    },
    {
      "cell_type": "markdown",
      "id": "1b3d7c3e",
      "metadata": {
        "id": "1b3d7c3e"
      },
      "source": [
        "Now repeat the same experiment when more basis functions are used: $M=16$ and $M=52$.\n",
        "\n",
        "> ***Q?:*** How does the smoothing behavior change? Explain."
      ]
    },
    {
      "cell_type": "code",
      "execution_count": null,
      "id": "56aca5ef",
      "metadata": {
        "id": "56aca5ef"
      },
      "outputs": [],
      "source": [
        "M = 16\n",
        "h = (N-1) / (M-1)\n",
        "centers = h*np.arange(M)\n",
        "phi = eval_BSpline((x[:, None]- centers[None, :])/h, order = 3)\n",
        "\n",
        "plt.imshow(phi, cmap='jet', aspect='auto')\n",
        "plt.xlabel('x pos')\n",
        "plt.ylabel('basis function index m')\n",
        "plt.title('B-spline basis functions (M={})'.format(M))\n",
        "\n",
        "fig, ax = plt.subplots(nrows=1, ncols=1,figsize=(10,5))\n",
        "for m in range(M):\n",
        "    ax.plot(x, phi[:, m], label='m={}'.format(m))\n",
        "ax.set_xlabel('x pos')\n",
        "ax.set_ylabel('basis function value')\n",
        "ax.set_title('B-spline basis functions (M={})'.format(M))\n",
        "ax.legend()\n",
        "\n",
        "S = phi @ np.linalg.solve(phi.T @ phi, phi.T)\n",
        "t_hat = S @ t\n",
        "plt.figure(figsize=(10,5))\n",
        "plt.scatter(x, t, label='data', alpha=0.25)\n",
        "plt.plot(x, t_hat, 'r', label='smoothed data (M={})'.format(M))\n",
        "plt.xlabel('x pos')\n",
        "plt.legend()\n",
        "\n",
        "## 52 basis functions\n",
        "M = 52\n",
        "h = (N-1) / (M-1)\n",
        "centers = h*np.arange(M)\n",
        "phi = eval_BSpline((x[:, None]- centers[None, :])/h, order = 3)\n",
        "plt.figure(figsize=(10,5))\n",
        "plt.imshow(phi, cmap='jet', aspect='auto')\n",
        "plt.xlabel('x pos')\n",
        "plt.ylabel('basis function index m')\n",
        "plt.title('B-spline basis functions (M={})'.format(M))\n",
        "plt.colorbar(label='basis function value');\n",
        "\n",
        "S = phi @ np.linalg.solve(phi.T @ phi, phi.T)\n",
        "t_hat = S @ t\n",
        "plt.figure(figsize=(10,5))\n",
        "plt.scatter(x, t, label='smoothed signal', alpha=0.25)\n",
        "plt.plot(x, t_hat, 'r', label='smoothed data (M={})'.format(M))\n",
        "plt.xlabel('x pos')\n",
        "plt.legend()"
      ]
    },
    {
      "cell_type": "markdown",
      "source": [
        "By varying $M$, the smoothness changes:\n",
        "\n",
        "- Low $M$ → stronger smoothing, broad trends are preserved but the fine details are lost.\n",
        "- High $M$ → weaker smoothing, the signal follows the data more closely, including some noise.\n",
        "\n",
        "It is a visual reflection on how the balance is between noise suppression and detail preservation in spline-based smoothing."
      ],
      "metadata": {
        "id": "DQZ61Y6ypcvM"
      },
      "id": "DQZ61Y6ypcvM"
    },
    {
      "cell_type": "markdown",
      "id": "78000082",
      "metadata": {
        "id": "78000082"
      },
      "source": [
        "---\n",
        "## Task 3: Interpolation\n",
        "Implement B-spline interpolation of the 1D signal $\\mathbf{t}$, by evaluating the function $y( x, \\mathbf{w})$ at locations $x = [120, 120.01, 120.02, \\ldots 140]$\n",
        "\n",
        "Show your results, along with the corresponding part of the signal $\\mathbf{t}$, for three different orders of B-splines: 0, 1 and 3.\n",
        "\n",
        "For this part we use 1.3 to calculate weights. $\\mathbf{\\Phi}$ is calculated the same way as ealier but with N=M.\n",
        "\n",
        "$\\mathbf{w} = (\\mathbf{\\Phi}^T\\mathbf{\\Phi})^{-1}\\mathbf{\\Phi}^T\\mathbf{t}$\n",
        "\n",
        "And the prediction:\n",
        "\n",
        "$\\mathbf{\\hat{t}} = \\mathbf{\\Phi}_1 \\mathbf{w}$\n",
        "\n",
        "Where $\\mathbf{\\Phi}_1$ is phi, constructed through the interpolated grid/points."
      ]
    },
    {
      "cell_type": "code",
      "source": [
        "N = len(t)\n",
        "M = N\n",
        "h = (N-1) / (M-1)\n",
        "x = np.linspace(0, N-1, N)\n",
        "centers = h*np.arange(M)\n",
        "phi = eval_BSpline((x[:, None]- centers[None, :])/h, order = 0)\n",
        "\n",
        "def Make_t_Interp(Originalx, t, x_eval, order):\n",
        "    h = 1\n",
        "    N = len(t)\n",
        "    M = N\n",
        "    centers = h*np.arange(M)\n",
        "    phi = eval_BSpline((Originalx[:, None] - centers[None, :])/h, order)\n",
        "    w = np.linalg.solve(phi.T @ phi, phi.T @ t)\n",
        "    N_1 = len(x_eval)\n",
        "    phi_1 = eval_BSpline((x_eval[:, None] - centers[None, :])/h, order)\n",
        "    t_hat = phi_1 @ w\n",
        "    return t_hat\n",
        "\n",
        "def Make_Smooth(t, M, order):\n",
        "    N = len(t)\n",
        "    x = np.linspace(0, N-1, N)\n",
        "    h = (N-1) / (M-1)\n",
        "    centers = h*np.arange(M)\n",
        "    phi = eval_BSpline((x[:, None]- centers[None, :])/h, order)\n",
        "    S = phi @ np.linalg.solve(phi.T @ phi, phi.T)\n",
        "    t_hat = S @ t\n",
        "    return t_hat\n",
        "\n",
        "\n",
        "#Make the smoothed signal, and the interpolated one.\n",
        "\n",
        "x_Interp = np.arange(120, 140, 0.01)\n",
        "t_interp = []\n",
        "t_smooth = []\n",
        "M_smooth = 55\n",
        "orders = np.array([0, 1, 3])\n",
        "for order in orders:\n",
        "    t_interp.append(Make_t_Interp(x, t, x_Interp, order))\n",
        "    t_smooth.append(Make_Smooth(t, M_smooth, order))\n",
        "\n",
        "plt.figure(figsize=(10, 5))\n",
        "# Original signal (scatter only in interpolation interval)\n",
        "mask = (x >= x.min()) & (x <= x.max())\n",
        "mask_interp = (x >= x_Interp.min()) & (x <= x_Interp.max())\n",
        "plt.scatter(x[mask], t[mask], s=50, label=\"Original\", alpha=0.8, color='blue')\n",
        "\n",
        "# Smoothed signal (only plot inside interval)\n",
        "plt.plot(x[mask], (t_smooth[2])[mask], color='green', linewidth=2, label=f\"Smoothed (order 3) M = {M_smooth}\")\n",
        "\n",
        "orders = [0, 1, 3]\n",
        "colors = ['red', 'orange', 'purple']\n",
        "for i, order in enumerate(orders):\n",
        "    plt.plot(x_Interp, t_interp[i], color=colors[i], linewidth=2, label=f\"Interpolated (order {order})\")\n",
        "\n",
        "# Zoom to interpolation interval\n",
        "plt.xlim(x_Interp.min(), x_Interp.max())\n",
        "\n",
        "plt.xlabel(\"x position\")\n",
        "plt.ylabel(\"Pixel intensity at row\")\n",
        "plt.title(\"Original, Smoothed, and Interpolated Signals (zoomed in)\")\n",
        "plt.legend()\n",
        "plt.grid(True)\n",
        "plt.show()"
      ],
      "metadata": {
        "id": "4dWSzPGQHNTh"
      },
      "id": "4dWSzPGQHNTh",
      "execution_count": null,
      "outputs": []
    },
    {
      "cell_type": "markdown",
      "source": [
        "From this figure, several points are important.\n",
        "\n",
        "1. Looking at order 0, its clear that we are doing the same as nearest neighbor principle. The point in x_Interp is determined only by what original point is closest.\n",
        "\n",
        "2. The more order is added, the more points seem important, for the interpolation. Which is also apparant from the intervals in the equations for $\\beta^n(x)$\n",
        "\n",
        "3. The interpolation curves hit all original points, as expected."
      ],
      "metadata": {
        "id": "t9liIaXbIQod"
      },
      "id": "t9liIaXbIQod"
    },
    {
      "cell_type": "markdown",
      "id": "81d7f27f",
      "metadata": {
        "id": "81d7f27f"
      },
      "source": [
        "---\n",
        "## Task 4: Smoothing in 2D\n",
        "Now you are going to smooth the 2D image $\\mathbf{T}$, which has dimensions $N_1 \\times N_2 = 256 \\times 256$, with $M_1=M_2=5$ B-spline-based 1D basis functions of order 3 for each direction.\n",
        "\n",
        "Use the Kronecker product to produce a $N \\times M$ matrix $\\boldsymbol{\\Phi} = \\boldsymbol{\\Phi}_2 \\otimes \\boldsymbol{\\Phi}_1$, where:\n",
        "- $N=N_1 N_2$\n",
        "- $M = M_1 M_2$.\n",
        "\n",
        "Show a few 2D basis functions contained in the columns of $\\boldsymbol{\\Phi}$.\n",
        "\n",
        ">***Hints***:\n",
        ">* the Kronecker product of two matrices A and B can be calculated with ```np.kron(A, B)```\n",
        ">* for converting a vectorized basis function ```v``` back into its 2D shape, use ```v.reshape(N_1, N_2, order='F')```\n",
        ">* the following snippet can be used to show a 2D basis function:\n",
        ">    ```\n",
        ">        plt.figure();\n",
        ">        ax = plt.axes(projection='3d');\n",
        ">        ax.plot_wireframe(np.arange(N1).reshape(-1, 1), np.arange(N2).reshape(1, -1), basisFunction)\n",
        ">\n",
        ">    ```"
      ]
    },
    {
      "cell_type": "code",
      "source": [
        "def interpolator(x, h, M, order ):\n",
        "    centers = h * np.arange(M)\n",
        "    phi1 = eval_BSpline((x[:, None] - centers[None, :])/h, order = order)\n",
        "    phi2 = eval_BSpline((x[:, None] - centers[None, :])/h, order = order)\n",
        "    return phi1, phi2"
      ],
      "metadata": {
        "id": "hxSVzDQNe3E8"
      },
      "id": "hxSVzDQNe3E8",
      "execution_count": null,
      "outputs": []
    },
    {
      "cell_type": "code",
      "execution_count": null,
      "id": "5f01ce9b",
      "metadata": {
        "id": "5f01ce9b"
      },
      "outputs": [],
      "source": [
        "# Use image T\n",
        "N1, N2 = len(T[1]), len(T[0])\n",
        "M1, M2 = 5, 5\n",
        "h1 = (N1-1) / (M1-1)\n",
        "h2 = (N2-1) / (M2-1)\n",
        "x1 = np.linspace(0, N1-1, N1)\n",
        "x2 = np.linspace(0, N2-1, N2)\n",
        "centers = h*np.arange(M1)\n",
        "phi1, phi2 = interpolator(x1, h1, M1, 3)\n",
        "\n",
        "phi = np.kron(phi1, phi2)\n",
        "\n",
        "def plot_basis_function(basis_function, N1, N2, index):\n",
        "    plt.figure()\n",
        "    ax = plt.axes(projection='3d')\n",
        "    ax.plot_wireframe(\n",
        "        np.arange(N1).reshape(-1, 1),\n",
        "        np.arange(N2).reshape(1, -1),\n",
        "        basis_function\n",
        "    )\n",
        "    ax.set_title(f\"2D Basis Function {index+1}\")\n",
        "    plt.show()\n",
        "\n",
        "for i in range(3):\n",
        "    basis_function = phi[:, i].reshape(N1, N2, order='F')\n",
        "    plot_basis_function(basis_function, N1, N2, i)"
      ]
    },
    {
      "cell_type": "markdown",
      "source": [
        "### 2-D smoothing with B-spline\n",
        "\n",
        "---\n",
        "\n",
        "\n",
        "\n",
        "* Firstly we build B-spline basis function vector:\n",
        "    * `Φ₁ ∈ ℝ^{N₁×M₁}` (rows)  \n",
        "    * `Φ₂ ∈ ℝ^{N₂×M₂}` (cols)\n",
        "\n",
        "* Then we combine them with **Kronecker product**\n",
        "$$\n",
        "\\phi = \\phi_2 \\otimes \\phi_1\n",
        "$$\n",
        "* size: $$N = N_1 N_2, M = M_1 M_2 $$\n",
        "\n",
        "Where each columns of `Φ`is one **2-D basis function**, stored as a vector of lenght `N`."
      ],
      "metadata": {
        "id": "5oqgnl5Zr_n-"
      },
      "id": "5oqgnl5Zr_n-"
    },
    {
      "cell_type": "markdown",
      "id": "0297b477",
      "metadata": {
        "id": "0297b477"
      },
      "source": [
        "Now:\n",
        "- vectorize the 2D image $\\mathbf{T}$ into a 1D signal $\\mathbf{t}$\n",
        "- smooth using $\\boldsymbol{\\Phi}$\n",
        "- re-arrange the resulting 1D signal $\\mathbf{\\hat{t}}$ back into a 2D image $\\mathbf{\\hat{T}}$\n",
        "- show the result.\n",
        "\n",
        ">***Hints***:\n",
        ">* use ```T.reshape(-1, 1, order='F')``` and ```t.reshape(N_1, N_2, order='F')``` to vectorize and undo the vectorization.\n",
        ">* do not explicitly compute the smoothing matrix $\\mathbf{S}$ as it is very large!! Instead compute the weights $\\mathbf{w} = (\\boldsymbol{\\Phi}^T \\boldsymbol{\\Phi})^{-1} \\boldsymbol{\\Phi}^T \\mathbf{t}$ and expand those to get $\\mathbf{\\hat{t}} = \\boldsymbol{\\Phi} \\mathbf{w}$.\n"
      ]
    },
    {
      "cell_type": "code",
      "execution_count": null,
      "id": "8479b577",
      "metadata": {
        "id": "8479b577"
      },
      "outputs": [],
      "source": [
        "N = 256\n",
        "M = 5\n",
        "h = (N-1) / (M-1)\n",
        "x = np.linspace(0, N-1, N)\n",
        "phi1, phi2 = interpolator(x, h, M, 3)\n",
        "phi = np.kron(phi1, phi2)\n",
        "\n",
        "t = T.reshape(-1, 1, order='F')\n",
        "w = np.linalg.solve(phi.T @ phi, phi.T @ t)\n",
        "t_hat = phi @ w # Here we are smoothin by calculated and inverting the whole matrix phi 65536x25, when the basis function increases does the parameters.\n",
        "T_hat_0 = t_hat.reshape(N1, N2, order='F') # These calculation are costly can in the code we do them more effienctly\n",
        "\n",
        "plt.figure();\n",
        "plt.subplot(1,2,1)\n",
        "plt.imshow(np.rot90(T,2), cmap='gray', origin = 'lower' );# rotate 90 deg\n",
        "plt.title('Original image')\n",
        "plt.colorbar()\n",
        "plt.subplot(1,2,2)\n",
        "plt.imshow(np.rot90(T_hat_0,2), cmap='gray', origin = 'lower');\n",
        "plt.title('Smoothed image')\n",
        "plt.colorbar()\n",
        "\n",
        "plt.tight_layout()\n",
        "plt.show()\n"
      ]
    },
    {
      "cell_type": "markdown",
      "id": "bcc4abe0",
      "metadata": {
        "id": "bcc4abe0"
      },
      "source": [
        "We can also perform the same smoothing operation by exploiting the separability of the 2D basis functions, i.e, perform row-wise and then column-wise smoothing instead.\n",
        "\n",
        "$$\n",
        "\\hat{T} = S_1 T S_2^{\\mathsf T}\n",
        "$$\n",
        "\n",
        "Where S1 is given by\n",
        "$$\n",
        "S_1 = \\phi_1 \\bigl(\\phi_1^{\\mathsf T} \\phi_1\\bigr)^{-1}\\phi_1^{\\mathsf T}\n",
        "$$\n",
        "Here S1 is built by `Φ₁` and is a N1 x N1 matrix, which smoothes each column in **T** independently in the **row-direction** only.\n",
        "And S2 likewise is built by `Φ₂` and is a N2 x N2 matrix which smoothes each row in **T** in the **column-direction**.\n",
        "\n",
        "\\\n",
        "\\\n",
        "Show the results, and verify that they are identical (use ```np.allclose()```)"
      ]
    },
    {
      "cell_type": "code",
      "execution_count": null,
      "id": "445c1006",
      "metadata": {
        "id": "445c1006"
      },
      "outputs": [],
      "source": [
        "S1 = phi1 @ np.linalg.solve(phi1.T @ phi1, phi1.T) # Here we use the spe\n",
        "S2 = phi2 @ np.linalg.solve(phi2.T @ phi2, phi2.T)\n",
        "T_hat_row = S1 @ T\n",
        "T_hat_col = T @ S2.T\n",
        "T_hat = S1 @T@ S2.T\n",
        "\n",
        "print(\"Is T_hat = T_hat_0:\", np.allclose(T_hat, T_hat_0))\n",
        "plt.figure(figsize=(10,7))\n",
        "plt.subplot(2,2,1)\n",
        "plt.imshow(np.rot90(T,2), cmap='gray', origin = 'lower' );\n",
        "plt.title('Original image')\n",
        "plt.colorbar()\n",
        "plt.subplot(2,2,2)\n",
        "plt.imshow(np.rot90(T_hat_row,2), cmap='gray', origin = 'lower');\n",
        "plt.title('Row Smoothed image phi1 @ T')\n",
        "plt.colorbar()\n",
        "plt.subplot(2,2,3)\n",
        "plt.imshow(np.rot90(T_hat_col,2), cmap='gray', origin = 'lower');\n",
        "plt.title('Column smoothed image phi2.T @ T')\n",
        "plt.colorbar()\n",
        "plt.subplot(2,2,4)\n",
        "plt.imshow(np.rot90(T_hat,2), cmap='gray', origin = 'lower');\n",
        "plt.title('smoothed image phi1 @ T @ phi2.T')\n",
        "plt.colorbar()"
      ]
    },
    {
      "cell_type": "markdown",
      "source": [
        "Above we can see the original MRI, row-wise-, column-wise- and combined smoothing.\n",
        "\n",
        "Exploiting the separability of the 2-D basis functions provides practical advantages over using the full matrix `Φ`.\n",
        "\n",
        "Inverting and storing for large `Φ` and large **M** becomes computationally expensive and is often practically not feasible. To combat this we keep `Φ₁` and `Φ₂` separate to minimize computations by:\n",
        "\n",
        "* reducing both computation time and memory usage,\n",
        "* can apply 1-D smoothers independently along rows and columns,\n",
        "* and make it easy to reuse the same 1-D operators for related tasks such as interpolation.\n",
        "\n",
        "By using the ```np.allclose()``` function, we saw that this approach produces the same result as the full 2-D smoother while being far more efficient."
      ],
      "metadata": {
        "id": "IkC61sE7LRPs"
      },
      "id": "IkC61sE7LRPs"
    },
    {
      "cell_type": "markdown",
      "id": "267bf080",
      "metadata": {
        "id": "267bf080"
      },
      "source": [
        "---\n",
        "## Task 5: Interpolation in 2D\n",
        "For B-spline order 0, 1 and 3, compute the weights $\\mathbf{W}$ of the 2D interpolation model fitted to $\\mathbf{T}$ by exploiting the separability of its basis functions.\n",
        "\n",
        "Then show, as an image, interpolated function values $y( \\mathbf{x}, \\mathbf{w})$ for $\\mathbf{x}=(x_1, x_2)^T$ with:\n",
        "- $x_1=120.0, 120.1, 120.2 \\ldots, 130.0$\n",
        "- $x_2=120.0, 120.1, 120.2 \\ldots, 130.0$"
      ]
    },
    {
      "cell_type": "markdown",
      "source": [
        "To reduce the number of computations and the storage used when M is large, in Task 5 $M=N$,seperability is\n",
        " exploited by using the following formula to compute the weights W:\n",
        "\n",
        "$W=(\\Phi_1^T \\Phi_1)^{-1}\\Phi_1^T T \\Phi_2 (\\Phi_2^T \\Phi_2 )^{-1}$\n",
        "\n",
        "The interpolated area is in the yellow box marked in the original image. This region have been interpolated with the B-spline order 0, 1 and 3.\n",
        "\n",
        "The higher the B-Spline order the less pixelated the image appear."
      ],
      "metadata": {
        "id": "GnnetFyJt3Kf"
      },
      "id": "GnnetFyJt3Kf"
    },
    {
      "cell_type": "code",
      "execution_count": null,
      "id": "248070a6",
      "metadata": {
        "id": "248070a6"
      },
      "outputs": [],
      "source": [
        "N = 256\n",
        "M = N\n",
        "h = (N-1) / (M-1)\n",
        "x = np.linspace(0, N-1, N)\n",
        "x1 = np.arange(120, 130, 0.1)\n",
        "N_1 = len(x1)\n",
        "# Order 0\n",
        "phi1, phi2 = interpolator(x, h, M, 0)\n",
        "phi1_inv = np.linalg.pinv(phi1.T @ phi1)\n",
        "phi2_inv = np.linalg.pinv(phi2.T @ phi2)\n",
        "W0 = phi1_inv @ phi1.T @ T @ phi2 @ phi2_inv\n",
        "\n",
        "phi1, phi2 = interpolator(x1, h, M, 0)\n",
        "Y0 = phi1 @ W0 @ phi2.T # separability\n",
        "\n",
        "# Order 1\n",
        "phi1, phi2 = interpolator(x, h, M, 1)\n",
        "phi1_inv = np.linalg.pinv(phi1.T @ phi1)\n",
        "phi2_inv = np.linalg.pinv(phi2.T @ phi2)\n",
        "W1 = phi1_inv @ phi1.T @ T @ phi2 @ phi2_inv\n",
        "\n",
        "phi1, phi2 = interpolator(x1, h, M, 1)\n",
        "Y1 = phi1 @ W1 @ phi2.T\n",
        "\n",
        "# Order 3\n",
        "phi1, phi2 = interpolator(x, h, M, 3)\n",
        "phi1_inv = np.linalg.pinv(phi1.T @ phi1)\n",
        "phi2_inv = np.linalg.pinv(phi2.T @ phi2)\n",
        "W3 = phi1_inv @ phi1.T @ T @ phi2 @ phi2_inv\n",
        "\n",
        "phi1, phi2 = interpolator(x1, h, M, 3)\n",
        "Y3 = phi1 @ W3 @ phi2.T\n"
      ]
    },
    {
      "cell_type": "code",
      "execution_count": null,
      "id": "eb42415f",
      "metadata": {
        "id": "eb42415f"
      },
      "outputs": [],
      "source": [
        "\n",
        "fig, axs = plt.subplots(2, 2, figsize=(10, 10))\n",
        "axs = axs.ravel()  # flatten to 1D for easy indexing\n",
        "\n",
        "# Extract Roi\n",
        "extent_T  = (0, N-1, 0, N-1)\n",
        "extent_ROI = (x1[0], x1[-1], x1[0], x1[-1])\n",
        "x0, x1b = x1[0], x1[-1]\n",
        "y0, y1b = x1[0], x1[-1]\n",
        "\n",
        "axs[0].imshow(np.rot90(T,2), cmap='gray', origin='lower', extent=extent_T)\n",
        "axs[0].set_title('Original')\n",
        "axs[0].axis('off')\n",
        "axs[0].plot([x0, x1b, x1b, x0, x0],\n",
        "            [y0, y0,  y1b, y1b, y0],\n",
        "            lw=1, color='y')\n",
        "\n",
        "\n",
        "axs[1].imshow(np.rot90(Y0,2), cmap='gray', origin='lower', extent=extent_ROI)\n",
        "axs[1].set_title('B-spline order 0 (NN)')\n",
        "axs[1].axis('off')\n",
        "\n",
        "axs[2].imshow(np.rot90(Y1,2), cmap='gray', origin='lower', extent=extent_ROI)\n",
        "axs[2].set_title('B-spline order 1 (linear)')\n",
        "axs[2].axis('off')\n",
        "\n",
        "axs[3].imshow(np.rot90(Y3,2), cmap='gray', origin='lower', extent=extent_ROI)\n",
        "axs[3].set_title('B-spline order 3 (cubic)')\n",
        "axs[3].axis('off')\n",
        "\n",
        "plt.tight_layout()\n",
        "plt.show()"
      ]
    },
    {
      "cell_type": "markdown",
      "source": [
        "## Conclusion\n",
        "\n",
        "\n",
        "In this exercise we learned how to understand, build, and use B-splines to smooth and interpolate both 1-D and 2-D data.  \n",
        "By exploiting the separability of the 2-D basis functions, we can obtain the same smoothing and interpolation results as with the full 2-D operator, but at a far lower computational cost.  \n",
        "This makes interpolation and smoothing feasible even for large values of \\(N\\) and \\(M\\), where forming and inverting the full matrix `Φ` would otherwise be impractical.\n",
        "\n",
        "\n",
        "\n"
      ],
      "metadata": {
        "id": "Vqet2jnePr8f"
      },
      "id": "Vqet2jnePr8f"
    }
  ],
  "metadata": {
    "kernelspec": {
      "display_name": "mia",
      "language": "python",
      "name": "python3"
    },
    "language_info": {
      "codemirror_mode": {
        "name": "ipython",
        "version": 3
      },
      "file_extension": ".py",
      "mimetype": "text/x-python",
      "name": "python",
      "nbconvert_exporter": "python",
      "pygments_lexer": "ipython3",
      "version": "3.9.23"
    },
    "colab": {
      "provenance": []
    }
  },
  "nbformat": 4,
  "nbformat_minor": 5
}