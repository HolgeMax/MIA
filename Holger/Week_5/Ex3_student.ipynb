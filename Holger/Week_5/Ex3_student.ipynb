{
 "cells": [
  {
   "cell_type": "markdown",
   "id": "b8e17507",
   "metadata": {},
   "source": [
    "# Mutual Information-based Registration"
   ]
  },
  {
   "cell_type": "markdown",
   "id": "782fbc71",
   "metadata": {},
   "source": [
    "## Introduction\n",
    "In this exercise, you will implement 3D rigid image registration using mutual information (MI). You will work with a T1-weighted and a T2-weighted MRI scan of the same patient, where the patient is lying in a different position in the scanner between the two image acquisition (for the purpose of this exercise, the movement is simulated).\n",
    "\n",
    "### Instructions for your report\n",
    "Your report should be structured as follows:\n",
    "* **Introduction**: a short summary of what your report is about, perhaps with a recap of some of the equations you'll be using in your solution.\n",
    "* **Task 1, ..., 5**: for each specific task listed below, your code (in code cells), your results (as figures) as well as explanations of what is computed and what is shown in the figures (in Markdown cells). \n",
    "* **Conclusion**: a short summary of your findings.\n",
    "\n",
    "This introduction should **not** be part of your report."
   ]
  },
  {
   "cell_type": "markdown",
   "id": "86f5fd41",
   "metadata": {},
   "source": [
    "### Input data and code hints\n",
    "Import Python libraries:"
   ]
  },
  {
   "cell_type": "code",
   "execution_count": 36,
   "id": "9f0e5e61",
   "metadata": {},
   "outputs": [],
   "source": [
    "import numpy as np\n",
    "from numpy import linalg as la\n",
    "import matplotlib.pyplot as plt\n",
    "import matplotlib as mpl\n",
    "from mpl_toolkits import mplot3d\n",
    "#%matplotlib notebook\n",
    "%matplotlib tk\n",
    "plt.ion()\n",
    "np.set_printoptions( suppress=True )\n",
    "import nibabel as nib\n",
    "import scipy\n",
    "from scipy.ndimage import map_coordinates\n"
   ]
  },
  {
   "cell_type": "markdown",
   "id": "05d7bb5d",
   "metadata": {},
   "source": [
    "Read the two 3D scans you'll be working with in this exercise:"
   ]
  },
  {
   "cell_type": "code",
   "execution_count": 37,
   "id": "8e3e4423",
   "metadata": {},
   "outputs": [],
   "source": [
    "T1_fileName = 'IXI014-HH-1236-T1.nii.gz'\n",
    "T2_fileName = 'IXI014-HH-1236-T2_rotated.nii.gz'\n",
    "T1 = nib.load( T1_fileName )\n",
    "T2 = nib.load( T2_fileName )\n",
    "T1_data = T1.get_fdata()\n",
    "T2_data = T2.get_fdata()"
   ]
  },
  {
   "cell_type": "markdown",
   "id": "8a4c73ca",
   "metadata": {},
   "source": [
    "Below is code to define a simple interactive viewer class that can be used to visualize 2D cross-sections of a 3D array along three orthogonal directions. It takes a 3D volume as input and shows the location a \"linked cursor\" in all three cross-sections.\n",
    "\n",
    "The initial location of the cursor is in the middle of the volume in each case. It can be changed by clicking on one of the cross-sections. The viewer also displays the voxel index $\\mathbf{v}$ of the cursor."
   ]
  },
  {
   "cell_type": "code",
   "execution_count": 38,
   "id": "cb567916",
   "metadata": {},
   "outputs": [],
   "source": [
    "class Viewer:\n",
    "    def __init__(self, data ):\n",
    "        self.fig, self.ax = plt.subplots()\n",
    "        self.data = data\n",
    "        self.dims = self.data.shape\n",
    "        self.position = np.round( np.array( self.dims ) / 2 ).astype( int )\n",
    "        self.draw()\n",
    "        self.fig.canvas.mpl_connect( 'button_press_event', self )\n",
    "        self.fig.show()\n",
    "\n",
    "    def __call__(self, event):\n",
    "        print( 'button pressed' )\n",
    "        if event.inaxes is None: return\n",
    "      \n",
    "        x, y = round( event.xdata ), round( event.ydata )\n",
    "\n",
    "        #\n",
    "        if ( x > (self.dims[0]-1) ) and ( y <= (self.dims[1]-1) ): return # lower-right quadrant\n",
    "          \n",
    "        #\n",
    "        if x < self.dims[0]:\n",
    "          self.position[ 0 ] = x\n",
    "        else:\n",
    "          self.position[ 1 ] = x - self.dims[0]\n",
    "        \n",
    "        if y < self.dims[1]:\n",
    "          self.position[ 1 ] = y\n",
    "        else:\n",
    "          self.position[ 2 ] = y -self.dims[1]\n",
    "        \n",
    "        print( f\"  voxel index: {self.position}\" )\n",
    "        print( f\"  intensity: {self.data[ self.position[0], self.position[1], self.position[2] ]}\" )\n",
    "\n",
    "        self.draw()\n",
    "\n",
    "    def draw( self ):\n",
    "        #\n",
    "        # Layout on screen is like this:\n",
    "        #\n",
    "        #     ^            ^\n",
    "        #  Z  |         Z  |\n",
    "        #     |            |\n",
    "        #     ----->        ---->  \n",
    "        #       X             Y\n",
    "        #     ^\n",
    "        #  Y  |\n",
    "        #     |\n",
    "        #     ----->  \n",
    "        #       X\n",
    "        #\n",
    "        dims = self.dims\n",
    "        position = self.position\n",
    "        \n",
    "        xySlice = self.data[ :, :, position[ 2 ] ]\n",
    "        xzSlice = self.data[ :, position[ 1 ], : ]\n",
    "        yzSlice = self.data[ position[ 0 ], :, : ]\n",
    "        \n",
    "        kwargs = dict( vmin=self.data.min(), vmax=self.data.max(), \n",
    "                       origin='lower', \n",
    "                       cmap='gray',\n",
    "                       picker=True )\n",
    "\n",
    "        self.ax.clear()\n",
    "\n",
    "        self.ax.imshow( xySlice.T, \n",
    "                        extent=( 0, dims[0]-1, \n",
    "                                 0, dims[1]-1 ), \n",
    "                        **kwargs )\n",
    "        self.ax.imshow( xzSlice.T, \n",
    "                        extent=( 0, dims[0]-1, \n",
    "                                 dims[1], dims[1]+dims[2]-1 ), \n",
    "                        **kwargs )\n",
    "        self.ax.imshow( yzSlice.T, extent=( dims[0], dims[0]+dims[1]-1, \n",
    "                                            dims[1], dims[1]+dims[2]-1 ), \n",
    "                        **kwargs )\n",
    "\n",
    "        color = 'g'\n",
    "        self.ax.plot( (0, dims[0]-1), (position[1], position[1]), color )\n",
    "        self.ax.plot( (0, dims[0]+dims[1]-1), (dims[1]+position[2], dims[1]+position[2]), color )\n",
    "        self.ax.plot( (position[0], position[0]), (0, dims[1]+dims[2]-1), color )\n",
    "        self.ax.plot( (dims[0]+position[1], dims[0]+position[1]), (dims[1]+1, dims[1]+dims[2]-1), color )\n",
    "\n",
    "        self.ax.set( xlim=(1, dims[0]+dims[1]), ylim=(0, dims[1]+dims[2]) )\n",
    "\n",
    "        self.ax.text( dims[0] + dims[1]/2, dims[1]/2, \n",
    "                      f\"voxel index: {position}\",  \n",
    "                      horizontalalignment='center', verticalalignment='center' )\n",
    "  \n",
    "        self.ax.axis( False )\n",
    "\n",
    "        self.fig.canvas.draw()"
   ]
  },
  {
   "cell_type": "markdown",
   "id": "b718ad9e",
   "metadata": {},
   "source": [
    "### Task 1: Resample the T2-weighted scan to the image grid of the T1-weighted scan\n",
    "\n",
    "In this task you perform the resampling just like in the landmark-based registration exercise. Find the voxel-to-voxel transformation between $\\mathbf{v}_{T1}$ and $\\mathbf{v}_{T2}$:\n",
    "\n",
    "$$\n",
    "\\begin{pmatrix} \\mathbf{ v_{T2}} \\\\ 1 \\end{pmatrix} = \\mathbf{M}_{T2}^{-1} \\cdot \\mathbf{M}_{T1} \\cdot \\begin{pmatrix} \\mathbf{ v_{T1}} \\\\ 1 \\end{pmatrix}\n",
    ".\n",
    "$$\n",
    "At the location $\\mathbf{v}_{T2}$, you should then use cubic B-spline interpolation to determine the intensity in the T2-weighted scan, and store it at index $\\mathbf{v}_{T1}$ in the newly created image.\n",
    "\n",
    "> ***Hints:***\n",
    "> - you can create a coordinate grid in 3D with the function\n",
    "> \n",
    ">        V1,V2,V3 = np.meshgrid( np.arange( T1_data.shape[0] ), \n",
    ">                                np.arange( T1_data.shape[1] ), \n",
    ">                                np.arange( T1_data.shape[2] ), indexing='ij' )\n",
    ">   \n",
    ">\n",
    "> - the following SciPy function interpolates the T2-weighted volume at voxel coordinates $(1.1,2.2,3.3)^T$ \n",
    "> and $(6.6,7.7,8.8)^T$ using cubic interpolation:   \n",
    ">\n",
    ">        scipy.ndimage.map_coordinates( T2_data, np.array( [ [1.1,2.2,3.3], [6.6,7.7,8.8] ] ).T )"
   ]
  },
  {
   "cell_type": "code",
   "execution_count": 39,
   "id": "396edbef",
   "metadata": {},
   "outputs": [
    {
     "name": "stdout",
     "output_type": "stream",
     "text": [
      "[  0   1   2 ... 147 148 149]\n"
     ]
    },
    {
     "data": {
      "text/plain": [
       "<__main__.Viewer at 0x1772ce280>"
      ]
     },
     "execution_count": 39,
     "metadata": {},
     "output_type": "execute_result"
    }
   ],
   "source": [
    "M_1 = T1.affine\n",
    "M_2 = T2.affine\n",
    "V1, V2, V3 = np.meshgrid(np.arange(T1_data.shape[0]),\n",
    "                         np.arange(T1_data.shape[1]),\n",
    "                         np.arange(T1_data.shape[2]),\n",
    "                         indexing= 'ij')\n",
    "V1, V2, V3 = V1.flatten(), V2.flatten(), V3.flatten()\n",
    "print(V3)\n",
    "V_T1 = np.column_stack([V1, V2, V3, np.ones(len(V3))])\n",
    "V_T2 = np.linalg.solve(M_2, M_1 @ V_T1.T)\n",
    "\n",
    "T2_int = map_coordinates(T2_data, V_T2[:3], order = 3)\n",
    "T2_re  = T2_int.reshape(T1_data.shape)\n",
    "Viewer(T2_re/T2_re.max() + T1_data/T1_data.max())\n",
    "Viewer(T2_re)"
   ]
  },
  {
   "cell_type": "markdown",
   "id": "9a073773",
   "metadata": {},
   "source": [
    "Once you have created the resampled T2-weighted data, visualize the T1-weighted and resampled T2-weighted volumes overlaid as follows:\n",
    "    \n",
    "        Viewer( T2_data_resampled / T2_data_resampled.max() + T1_data / T1_data.max() )\n",
    "\n",
    " Can you determine around what axis (in world coordinates) the rotation was simulated?\n",
    "\n",
    " > ***Hint***\n",
    " > - The T2-weighted volume was rotated around a single axis only.\n",
    " >"
   ]
  },
  {
   "cell_type": "markdown",
   "id": "c38d9fa8",
   "metadata": {},
   "source": [
    "firstly find the robust max 98% of the full intensities, then we can do the joint histogram and single histograms\n"
   ]
  },
  {
   "cell_type": "code",
   "execution_count": 40,
   "id": "b7c1967b",
   "metadata": {},
   "outputs": [
    {
     "name": "stdout",
     "output_type": "stream",
     "text": [
      "T1 robust max and max 1638 4479.412590265274\n",
      "T2 robust max and max 891 2505.8759338642885\n"
     ]
    }
   ],
   "source": [
    "T1_rm= np.percentile(T1_data, 98).astype(int)\n",
    "T2_rm= np.percentile(T2_re, 98).astype(int) # The resampled T2\n",
    "\n",
    "print(\"T1 robust max and max\", T1_rm, T1_data.max())\n",
    "print(\"T2 robust max and max\", T2_rm, T2_re.max())"
   ]
  },
  {
   "cell_type": "markdown",
   "id": "36cfb695",
   "metadata": {},
   "source": [
    "### Task 2: Compute and visualize the joint histogram\n",
    "\n",
    "Compute the joint histogram \n",
    "$$ \n",
    "\\mathbf{H} = \n",
    "\\begin{pmatrix}\n",
    "h_{1,1} & ... & h_{1,B} \\\\\n",
    "\\vdots & ... & \\vdots \\\\\n",
    "h_{B,1} & ... & h_{B,B} \\\\\n",
    "\\end{pmatrix} \n",
    "$$\n",
    "of the T1-weighted scan and the resampled T2-weighted scan you just created, using $B=32$ bins. In order not to let the registration process be dominated by the (extremely numerous) background voxels, ignore all voxels with an intensity lower than 10 in either image when computing the histogram. Visualize the joint histogram using a 3D bar plot, and label the axes.\n",
    "\n",
    "> ***Hints:***\n",
    ">\n",
    "> - To compute a 2D histogram, you can use the function\n",
    ">\n",
    ">           np.histogram2d(x,y,bins,range)\n",
    "> \n",
    "> - A 3D bar plot can be created as follows:\n",
    ">\n",
    ">           fig, ax = plt.subplots( subplot_kw=dict( projection='3d') )\n",
    ">           plt.bar3d(xpos, ypos, zpos, dx, dy, dz)\n",
    ">\n",
    ">   where xpos, ypos, and zpos are the anchor points of the bars and dx, dy, and dz are the dimensions of the bars.\n",
    ">\n",
    "> - A useful \"trick\" to verify that your axes are labeled correctly, is to use a different number of bins for the two scans.\n",
    ">"
   ]
  },
  {
   "cell_type": "code",
   "execution_count": 41,
   "id": "615a5472",
   "metadata": {},
   "outputs": [],
   "source": [
    "bins = 32\n",
    "lb   = 10\n",
    "\n",
    "H, xedges, yedges = np.histogram2d(T1_data.flatten(), T2_re.flatten(), bins = bins, range=[[lb, T1_data.max()], [lb, T2_re.max()]])\n",
    "jointProb = H / np.sum(H)\n",
    "xpos, ypos = np.meshgrid(xedges[:-1]+xedges[1:], yedges[:-1]+yedges[1:]-xedges[0])\n",
    "\n",
    "xpos = xpos.flatten()*1./2 #take times 1/2 to get to the center of the bin\n",
    "ypos = ypos.flatten()*1./2\n",
    "xpos = xpos.ravel()\n",
    "ypos = ypos.ravel()\n",
    "zpos = np.zeros_like(xpos)\n",
    "\n",
    "dx = xedges [1] - xedges [0]\n",
    "dy = yedges [1] - yedges [0]\n",
    "dz = jointProb.ravel()\n",
    "\n",
    "fig, ax = plt.subplots(subplot_kw=dict(projection='3d'), figsize=(8,6))\n",
    "ax.bar3d(xpos, ypos, zpos, dx, dy, dz, shade=True)\n",
    "\n",
    "ax.set_xlabel('T1 Intensity')\n",
    "ax.set_ylabel('T2 Intensity')\n",
    "ax.set_zlabel('Joint Probability')\n",
    "plt.show()\n"
   ]
  },
  {
   "cell_type": "markdown",
   "id": "a5cee577",
   "metadata": {},
   "source": [
    "### Task 3: Compute the mutual information between the two images\n",
    "Write a function that takes two image volumes defined on the same image grid as input, and returns the mutual information between the two images:\n",
    "\n",
    "$$ \n",
    "MI = H_{F} + H_{M} - H_{F,M} \n",
    "$$\n",
    "with\n",
    "$$ \n",
    "H_{F,M} = - \\sum_{f=1}^{B} \\sum_{m=1}^{B} p_{f,m} \\log(p_{f,m}),\n",
    "$$\n",
    "$$ \n",
    "H_{F} = - \\sum_{f=1}^{B} p_{f} \\log(p_{f}), \n",
    "$$\n",
    "and\n",
    "$$\n",
    "H_{M} = - \\sum_{m=1}^{B} p_{m} \\log(p_{m})\n",
    ".\n",
    "$$\n",
    "\n",
    "Your function should make use of the joint histogram computed as in the previous task (i.e., using $B=32$ bins and ignoring all voxels with intensity lower than 10).\n",
    "\n",
    "Use your new function to compute the mutual information between the T1-weighted image and the resampled T2-weighted image.\n",
    "\n",
    "> ***Hints:***\n",
    ">\n",
    "> - To avoid numerical errors when one of the bins is empty and 0*log(0)=0 is therefore computed numerically, you can add a tiny value (e.g., 1e-12) to each histogram bin"
   ]
  },
  {
   "cell_type": "markdown",
   "id": "1edcf469",
   "metadata": {},
   "source": []
  },
  {
   "cell_type": "code",
   "execution_count": 42,
   "id": "443c6165",
   "metadata": {},
   "outputs": [],
   "source": [
    "def mutual_information(B, T1_data, T2_data_resampled, threshold):\n",
    "    #Finding the joint histogram\n",
    "    H, x, y = np.histogram2d( T1_data.flatten(), T2_data_resampled.flatten(), bins=B, range=[[threshold, np.percentile(T1_data, 98)], [threshold, np.percentile(T2_data_resampled, 98)]] )\n",
    "    jointProb = H / np.sum(H)\n",
    "    H_FM = -np.sum( jointProb * np.log( jointProb + 1e-12 ) ) #adding a small number to avoid log(0)\n",
    "\n",
    "    #finding the histogram for T1\n",
    "    H_T1, x = np.histogram( T1_data.flatten(), bins=B, range=(threshold, np.max(T1_data)) )\n",
    "    p_F = H_T1 / np.sum(H_T1)\n",
    "    H_F = -np.sum( p_F * np.log( p_F + 1e-12 ) ) #adding a small number to avoid log(0)\n",
    "\n",
    "    #finding the histogram for T2\n",
    "    H_T2, x = np.histogram( T2_data_resampled.flatten(), bins=B, range=(threshold, np.max(T2_data_resampled)) )\n",
    "    p_M = H_T2 / np.sum(H_T2)\n",
    "    H_M = -np.sum( p_M * np.log( p_M + 1e-12 ) ) #adding a small number to avoid log(0)\n",
    "\n",
    "    #Calculating the mutual information\n",
    "    MI= H_F + H_M - H_FM\n",
    "    return MI"
   ]
  },
  {
   "cell_type": "code",
   "execution_count": 43,
   "id": "611bd894",
   "metadata": {},
   "outputs": [
    {
     "name": "stdout",
     "output_type": "stream",
     "text": [
      "-1.6657827518940032\n"
     ]
    }
   ],
   "source": [
    "MI= mutual_information(bins, T1_data, T2_re, lb)\n",
    "print(MI)\n"
   ]
  },
  {
   "cell_type": "markdown",
   "id": "6a40e638",
   "metadata": {},
   "source": [
    "### Task 4: Evaluate the mutual information across a range of rotation angles\n",
    "\n",
    "Implement a grid search over a range of rotation angles, with the goal of identifying the angle with approximately the highest mutual information (i.e., where the registration is best). Make an educated guess of a suitable range by visually inspecting the images (or by simply trying a few rotation angles and inspecting the result), and then define a list of candidate angles at intervals of e.g., 5° apart:\n",
    "\n",
    "       a = np.arange(a_{lowest}, a_{highest}, 5)\n",
    "\n",
    "Loop over all candidate rotation angles, each time (1) creating a corresponding rotation matrix $\\mathbf{R}$; (2) resampling the T2-weighted volume accordingly; (3) calculating the mutual information with the function you created above; and (4) storing the mutual information value.\n",
    "\n",
    "> ***Hint:***\n",
    "> \n",
    "> - A 3D rotation matrix can be parameterized as follows:\n",
    "> \n",
    "> $$\\mathbf{R} = \\mathbf{R}_{z} \\mathbf{R}_{y} \\mathbf{R_{x}},$$ \n",
    "> where\n",
    ">\n",
    "> $$\n",
    "\\mathbf{R}_z = \n",
    "\\begin{pmatrix} \n",
    " cos( \\theta_z ) & -sin( \\theta_z ) & 0 & \\\\\n",
    " sin( \\theta_z ) & cos( \\theta_z ) & 0 & \\\\\n",
    " 0 & 0 & 1 & \\\\\n",
    "\\end{pmatrix}\n",
    "$$\n",
    "> implements a rotation around the z-axis in world coordinates;\n",
    "> $$\n",
    "\\mathbf{R}_y = \n",
    "\\begin{pmatrix} \n",
    " cos( \\theta_y ) & -sin( \\theta_y ) & 0 & \\\\\n",
    " 0 & 1 & 0 & \\\\\n",
    " sin( \\theta_y ) & cos( \\theta_y ) & 0 & \\\\\n",
    "\\end{pmatrix}\n",
    "$$\n",
    "> is a rotation around the y-axis;\n",
    "and\n",
    "> $$\n",
    "\\mathbf{R}_x = \n",
    "\\begin{pmatrix} \n",
    " 1 & 0 & 0 & \\\\\n",
    " cos( \\theta_x ) & -sin( \\theta_x ) & 0 & \\\\\n",
    " sin( \\theta_x ) & cos( \\theta_x ) & 0 & \\\\\n",
    "\\end{pmatrix}\n",
    "$$\n",
    "> rotates around the x-axis.\n",
    ">\n",
    ">\n",
    "> - If you didn't figure out in Task 1 which axis the T2-weighted volume was rotated around, you can try rotating around each axis (one at a time) to see the effect of each transformation. Once you've determined the correct rotation axis, the rotation angles around the other axes should be clamped to zero.\n"
   ]
  },
  {
   "cell_type": "code",
   "execution_count": 44,
   "id": "e9074bb1",
   "metadata": {},
   "outputs": [],
   "source": [
    "def rotation_matrix(a, i):\n",
    "    R_z = np.array( [ [ np.cos(np.deg2rad(a[i])), -np.sin(np.deg2rad(a[i])), 0 ],\n",
    "                    [ np.sin(np.deg2rad(a[i])),  np.cos(np.deg2rad(a[i])), 0 ],\n",
    "                    [ 0, 0, 1 ] ] )\n",
    "\n",
    "    R_y = np.array( [ [ np.cos(np.deg2rad(a[i])),0,  -np.sin(np.deg2rad(a[i])),  ],\n",
    "                    [ 0,  1, 0 ],\n",
    "                    [ np.sin(np.deg2rad(a[i])),0,  np.cos(np.deg2rad(a[i])) ] ] )\n",
    "    R_x = np.array( [ [ 1, 0, 0 ],\n",
    "                    [ 0, np.cos(np.deg2rad(a[i])), -np.sin(np.deg2rad(a[i])) ],\n",
    "                    [ 0, np.sin(np.deg2rad(a[i])),  np.cos(np.deg2rad(a[i])) ] ] )  \n",
    "    return R_x, R_y, R_z"
   ]
  },
  {
   "cell_type": "code",
   "execution_count": 45,
   "id": "53f456da",
   "metadata": {},
   "outputs": [],
   "source": [
    "def mesh(T1_data, T2_data, M, M_1, M_2):\n",
    "    V1, V2, V3 = np.meshgrid(np.arange(T1_data.shape[0]),\n",
    "                         np.arange(T1_data.shape[1]),\n",
    "                         np.arange(T1_data.shape[2]),\n",
    "                         indexing= 'ij')\n",
    "    V1, V2, V3 = V1.flatten(), V2.flatten(), V3.flatten()\n",
    "    V_T1 = np.column_stack([V1, V2, V3, np.ones(len(V3))])\n",
    "    V_T2 = np.linalg.solve(M_2, M @ M_1 @ V_T1.T)\n",
    "\n",
    "    T2_int = map_coordinates(T2_data, V_T2[:3], order = 3)\n",
    "    T2_re  = T2_int.reshape(T1_data.shape)\n",
    "    return T2_re"
   ]
  },
  {
   "cell_type": "code",
   "execution_count": 46,
   "id": "4d8c46e6",
   "metadata": {},
   "outputs": [
    {
     "name": "stdout",
     "output_type": "stream",
     "text": [
      "\n",
      "Best rotation angle: 45° with MI = -1.4749\n"
     ]
    },
    {
     "data": {
      "text/plain": [
       "<__main__.Viewer at 0x165c33b80>"
      ]
     },
     "execution_count": 46,
     "metadata": {},
     "output_type": "execute_result"
    }
   ],
   "source": [
    "a = np.arange(0, 90, 5)\n",
    "mi_values = []\n",
    "image_resampled = []\n",
    "\n",
    "for i in range(len(a)):\n",
    "    R_x, R_y, R_z = rotation_matrix(a, i)\n",
    "\n",
    "    R = R_z\n",
    "\n",
    "    M = np.eye(4)\n",
    "    M[:3, :3] = R\n",
    "    T2_re = mesh(T1_data, T2_data, M, M_1, M_2)\n",
    "    image_resampled.append(T2_re)\n",
    "\n",
    "    mi = mutual_information(bins, T1_data, T2_re, lb)\n",
    "    mi_values.append(mi)\n",
    "\n",
    "best_fit_idx = np.argmax(mi_values)\n",
    "best_angle = a[best_fit_idx]\n",
    "print(f\"\\nBest rotation angle: {best_angle}° with MI = {mi_values[best_fit_idx]:.4f}\")\n",
    "\n",
    "# --- Plot MI vs angles ---\n",
    "plt.figure()\n",
    "plt.plot(a, mi_values, '-o')\n",
    "plt.xlabel(\"Rotation angle (°)\")\n",
    "plt.ylabel(\"Mutual Information\")\n",
    "plt.title(\"MI vs Rotation Angle\")\n",
    "plt.grid(True)\n",
    "plt.show()\n",
    "\n",
    "\n",
    "best_resampled = image_resampled[best_fit_idx]\n",
    "z = T1_data.shape[2] // 2  # Middle slice\n",
    "overlay_best = (best_resampled[:, :, z] / best_resampled.max()) + (T1_data[:, :, z] / T1_data.max())\n",
    "\n",
    "plt.figure(figsize=(8, 8))\n",
    "plt.imshow(overlay_best.T, cmap='gray', origin='lower')\n",
    "plt.title(f'Overlay of T1 and Resampled T2 (middle slice) — Best angle: {best_angle}°')\n",
    "plt.axis('off')\n",
    "plt.show()\n",
    "\n",
    "Viewer( best_resampled / best_resampled.max() + T1_data / T1_data.max() )    "
   ]
  },
  {
   "cell_type": "markdown",
   "id": "86b9e106",
   "metadata": {},
   "source": [
    "### Task 5: Perform automatic registration\n",
    "\n",
    "Plot the negative mutual information, i.e. the energy function $E(\\mathbf{w})= H_{F,M}-H_{F}-H_{M}$ for every angle in your grid search space. Select the one with the lowest energy (i.e., the best angle for registration) and transform the T2-weighted volume according to this angle.\n",
    "\n",
    "Use the Viewer() function to visualize your registration result."
   ]
  },
  {
   "cell_type": "code",
   "execution_count": 47,
   "id": "caf71bb7",
   "metadata": {},
   "outputs": [
    {
     "ename": "ValueError",
     "evalue": "could not broadcast input array from shape (3,3) into shape (3,4)",
     "output_type": "error",
     "traceback": [
      "\u001b[0;31m---------------------------------------------------------------------------\u001b[0m",
      "\u001b[0;31mValueError\u001b[0m                                Traceback (most recent call last)",
      "Cell \u001b[0;32mIn[47], line 8\u001b[0m\n\u001b[1;32m      5\u001b[0m R_z, _, _ \u001b[38;5;241m=\u001b[39m rotation_matrix(a, i)\n\u001b[1;32m      7\u001b[0m M \u001b[38;5;241m=\u001b[39m np\u001b[38;5;241m.\u001b[39meye(\u001b[38;5;241m4\u001b[39m)\n\u001b[0;32m----> 8\u001b[0m \u001b[43mM\u001b[49m\u001b[43m[\u001b[49m\u001b[43m:\u001b[49m\u001b[38;5;241;43m3\u001b[39;49m\u001b[43m]\u001b[49m\u001b[43m[\u001b[49m\u001b[43m:\u001b[49m\u001b[38;5;241;43m3\u001b[39;49m\u001b[43m]\u001b[49m \u001b[38;5;241m=\u001b[39m R_z\n\u001b[1;32m     10\u001b[0m T2_re \u001b[38;5;241m=\u001b[39m mesh(T1_data, T2_data)\n\u001b[1;32m     11\u001b[0m resampled\u001b[38;5;241m.\u001b[39mappend(T2_re)\n",
      "\u001b[0;31mValueError\u001b[0m: could not broadcast input array from shape (3,3) into shape (3,4)"
     ]
    }
   ],
   "source": [
    "resampled = []\n",
    "energi  = []\n",
    "\n",
    "for i in range(len(a)):\n",
    "    R_z, _, _ = rotation_matrix(a, i)\n",
    "\n",
    "    M = np.eye(4)\n",
    "    M[:3][:3] = R_z\n",
    "\n",
    "    T2_re = mesh(T1_data, T2_data)\n",
    "    resampled.append(T2_re)\n",
    "    mi = mutual_information(bins, T1_data, T2_re, lb)\n",
    "\n",
    "    energi.append(-mi)\n",
    "    "
   ]
  },
  {
   "cell_type": "markdown",
   "id": "25d5554a",
   "metadata": {},
   "source": [
    "### Task 6: Compare the joint histogram before and after registration\n",
    "\n",
    "Visualize the joint histogram after registration. Compare the result to your initial joint histogram (i.e., before registration) and discuss your findings in your report."
   ]
  },
  {
   "cell_type": "code",
   "execution_count": null,
   "id": "bdd9505e",
   "metadata": {},
   "outputs": [],
   "source": []
  },
  {
   "cell_type": "markdown",
   "id": "cca25d3b",
   "metadata": {},
   "source": [
    "### Additional task for the enthusiastic student: Compare the MI obtained with landmark-based and intensity-based registration\n",
    "\n",
    "Perform landmark-based registration between the T1-weighted and T2-weighted volumes instead, just like you did in the last exercise. For the resulting registration, view your results with the Viewer() class; visualize the joint histogram, and calculate the mutual information. \n",
    "\n",
    "Compare the results with those obtained using mutual information, and discuss.\n",
    "\n",
    "> ***Hint:***\n",
    "> - You can reuse the landmarks that you collected in the landmark-based registration exercise, as these were defined in voxel space. "
   ]
  },
  {
   "cell_type": "code",
   "execution_count": null,
   "id": "6bb1a476",
   "metadata": {},
   "outputs": [],
   "source": []
  }
 ],
 "metadata": {
  "kernelspec": {
   "display_name": "mia",
   "language": "python",
   "name": "python3"
  },
  "language_info": {
   "codemirror_mode": {
    "name": "ipython",
    "version": 3
   },
   "file_extension": ".py",
   "mimetype": "text/x-python",
   "name": "python",
   "nbconvert_exporter": "python",
   "pygments_lexer": "ipython3",
   "version": "3.9.20"
  }
 },
 "nbformat": 4,
 "nbformat_minor": 5
}
